{
 "cells": [
  {
   "cell_type": "markdown",
   "id": "14877ede",
   "metadata": {},
   "source": [
    "# Обзор данных\n",
    "\n",
    "- Hours_Studied — Часы учебы\n",
    "- Attendance — Посещаемость\n",
    "- Parental_Involvement — Родительское участие\n",
    "- Access_to_Resources — Доступ к ресурсам\n",
    "- Extracurricular_Activities — Внеклассные мероприятия\n",
    "- Sleep_Hours — Часы сна\n",
    "- Previous_Scores — Предыдущие оценки\n",
    "- Motivation_Level — Уровень мотивации\n",
    "- Internet_Access — Доступ к интернету\n",
    "- Tutoring_Sessions — Занятия с репетитором\n",
    "- Family_Income — Семейный доход\n",
    "- Teacher_Quality — Качество преподавания\n",
    "- School_Type — Тип школы\n",
    "- Peer_Influence — Влияние сверстников\n",
    "- Physical_Activity — Физическая активность\n",
    "- Learning_Disabilities — Учебные трудности\n",
    "- Parental_Education_Level — Уровень образования родителей\n",
    "- Distance_from_Home — Расстояние от дома\n",
    "- Gender — Пол\n",
    "- Exam_Score — Оценка за экзамен"
   ]
  },
  {
   "cell_type": "raw",
   "id": "13529faf",
   "metadata": {},
   "source": [
    "- 0   hours_studied               6378 non-null   int64 \n",
    "- 1   attendance                  6378 non-null   int64 \n",
    "- 2   parental_involvement        6378 non-null   object\n",
    "- 3   access_to_resources         6378 non-null   object\n",
    "- 4   extracurricular_activities  6378 non-null   object\n",
    "- 5   sleep_hours                 6378 non-null   int64 \n",
    "- 6   previous_scores             6378 non-null   int64 \n",
    "- 7   motivation_level            6378 non-null   object\n",
    "- 8   internet_access             6378 non-null   object\n",
    "- 9   tutoring_sessions           6378 non-null   int64 \n",
    "- 10  family_income               6378 non-null   object\n",
    "- 11  teacher_quality             6378 non-null   object\n",
    "- 12  school_type                 6378 non-null   object\n",
    "- 13  peer_influence              6378 non-null   object\n",
    "- 14  physical_activity           6378 non-null   int64 \n",
    "- 15  learning_disabilities       6378 non-null   object\n",
    "- 16  parental_education_level    6378 non-null   object\n",
    "- 17  distance_from_home          6378 non-null   object\n",
    "- 18  gender                      6378 non-null   object\n",
    "- 19  exam_score                  6378 non-null   int64 "
   ]
  },
  {
   "cell_type": "markdown",
   "id": "6c9117b2",
   "metadata": {},
   "source": [
    "ссылка\n",
    "https://www.kaggle.com/datasets/lainguyn123/student-performance-factors/dataЁ"
   ]
  },
  {
   "cell_type": "code",
   "execution_count": null,
   "id": "cfc5c8cd",
   "metadata": {},
   "outputs": [],
   "source": []
  }
 ],
 "metadata": {
  "kernelspec": {
   "display_name": "Python 3 (ipykernel)",
   "language": "python",
   "name": "python3"
  },
  "language_info": {
   "codemirror_mode": {
    "name": "ipython",
    "version": 3
   },
   "file_extension": ".py",
   "mimetype": "text/x-python",
   "name": "python",
   "nbconvert_exporter": "python",
   "pygments_lexer": "ipython3",
   "version": "3.11.5"
  }
 },
 "nbformat": 4,
 "nbformat_minor": 5
}
